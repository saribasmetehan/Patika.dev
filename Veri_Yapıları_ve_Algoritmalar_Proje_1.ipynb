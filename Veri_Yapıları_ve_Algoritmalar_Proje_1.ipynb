{
  "nbformat": 4,
  "nbformat_minor": 0,
  "metadata": {
    "colab": {
      "provenance": [],
      "authorship_tag": "ABX9TyNAQHBUSnqAkro+guIL25CD",
      "include_colab_link": true
    },
    "kernelspec": {
      "name": "python3",
      "display_name": "Python 3"
    },
    "language_info": {
      "name": "python"
    }
  },
  "cells": [
    {
      "cell_type": "markdown",
      "metadata": {
        "id": "view-in-github",
        "colab_type": "text"
      },
      "source": [
        "<a href=\"https://colab.research.google.com/github/saribasmetehan/Patika.dev/blob/main/Veri_Yap%C4%B1lar%C4%B1_ve_Algoritmalar_Proje_1.ipynb\" target=\"_parent\"><img src=\"https://colab.research.google.com/assets/colab-badge.svg\" alt=\"Open In Colab\"/></a>"
      ]
    },
    {
      "cell_type": "markdown",
      "source": [
        "#  Insertion Sort\n",
        "\n"
      ],
      "metadata": {
        "id": "XTdH0AksJUZb"
      }
    },
    {
      "cell_type": "markdown",
      "source": [
        "[22,27,16,2,18,6] -> Insertion Sort\n",
        "\n",
        "Yukarı verilen dizinin sort türüne göre aşamalarını yazınız.\n",
        "\n",
        "Big-O gösterimini yazınız.\n",
        "\n",
        "Time Complexity: Dizi sıralandıktan sonra 18 sayısı aşağıdaki case'lerden hangisinin kapsamına girer? Yazınız\n",
        "\n",
        "1.Average case: Aradığımız sayının ortada olması\n",
        "2.Worst case: Aradığımız sayının sonda olması\n",
        "3.Best case: Aradığımız sayının dizinin en başında olması.\n"
      ],
      "metadata": {
        "id": "wFIhvjcTJkHz"
      }
    },
    {
      "cell_type": "markdown",
      "source": [
        "*Cevap 1*"
      ],
      "metadata": {
        "id": "GKeNrmCkMRLr"
      }
    },
    {
      "cell_type": "code",
      "execution_count": null,
      "metadata": {
        "id": "8MySkzbQJSGZ"
      },
      "outputs": [],
      "source": [
        "[22/27,16,2,18,6] # İlk eleman tek elaman olduğu için sıralı kabul edilir.\n",
        "\n",
        "[22,27/16,2,18,6] # 2. eleman daha büyük olduğu için sıralama yapılmadı.\n",
        "\n",
        "[22,16,27/2,18,6] # 3. eleman dizine eklendiğinde sıralama tazelendi ve 1. index'e yerleştirildi.\n",
        "\n",
        "[2,16,22,27/18,6] # 4. eleman dizine eklendiğinde sıralama tazelendi ve 0. index'e yerleştirildi.\n",
        "\n",
        "[2,16,18,22,27/6] # 5. eleman dizine eklendiğinde sıralama tazelendi ve 2. index'e yerleştirildi.\n",
        "\n",
        "[2,6,16,18,22,27] # Son eleman dizine eklendiğinde sıralama tazelendi ve 1. index'e yerleştirildi."
      ]
    },
    {
      "cell_type": "markdown",
      "source": [
        "*Cevap 2*"
      ],
      "metadata": {
        "id": "PMGGkoOYMz4M"
      }
    },
    {
      "cell_type": "code",
      "source": [
        "Insertion Sort algoritmasının Big-O değeri, en kötü durumda her elemanın her bir elemanla karşılaştırılması gerektiği için O(n*2)'dir."
      ],
      "metadata": {
        "id": "lppGTfBTMKuD"
      },
      "execution_count": null,
      "outputs": []
    },
    {
      "cell_type": "markdown",
      "source": [
        "*Cevap 3*"
      ],
      "metadata": {
        "id": "9QPdQMNvNCij"
      }
    },
    {
      "cell_type": "code",
      "source": [
        "18 sayısı, sıralandıktan sonra dizinin ortalarında yer aldığı için Average Case kapsamına girer."
      ],
      "metadata": {
        "id": "EA2SGFt4M5Xz"
      },
      "execution_count": null,
      "outputs": []
    },
    {
      "cell_type": "markdown",
      "source": [
        "# [7,3,5,8,2,9,4,15,6] dizisinin Selection Sort'a göre ilk 4 adımını yazınız."
      ],
      "metadata": {
        "id": "3mOls_wgNRYr"
      }
    },
    {
      "cell_type": "code",
      "source": [
        "[7/3,5,8,2,9,4,15,6] # İlk eleman tek elaman olduğu için sıralı kabul edilir.\n",
        "\n",
        "[3,7/5,8,2,9,4,15,6] # 2. eleman dizine eklendiğinde sıralama tazelendi ve 0. index'e yerleştirildi.\n",
        "\n",
        "[3,5,7/8,2,9,4,15,6] # 3. eleman dizine eklendiğinde sıralama tazelendi ve 1. index'e yerleştirildi.\n",
        "\n",
        "[3,5,7,8/2,9,4,15,6] # 4. eleman dizine eklendiğinde sıralama tazelendi ve 3. index'e yerleştirildi."
      ],
      "metadata": {
        "id": "JZPxfRLLNUG8"
      },
      "execution_count": null,
      "outputs": []
    }
  ]
}