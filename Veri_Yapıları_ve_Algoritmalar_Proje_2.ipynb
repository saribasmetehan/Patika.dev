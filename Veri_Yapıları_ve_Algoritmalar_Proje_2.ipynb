{
  "nbformat": 4,
  "nbformat_minor": 0,
  "metadata": {
    "colab": {
      "provenance": [],
      "authorship_tag": "ABX9TyM7K28eUp9IdcfdIU05idLB",
      "include_colab_link": true
    },
    "kernelspec": {
      "name": "python3",
      "display_name": "Python 3"
    },
    "language_info": {
      "name": "python"
    }
  },
  "cells": [
    {
      "cell_type": "markdown",
      "metadata": {
        "id": "view-in-github",
        "colab_type": "text"
      },
      "source": [
        "<a href=\"https://colab.research.google.com/github/saribasmetehan/Patika.dev/blob/main/Veri_Yap%C4%B1lar%C4%B1_ve_Algoritmalar_Proje_2.ipynb\" target=\"_parent\"><img src=\"https://colab.research.google.com/assets/colab-badge.svg\" alt=\"Open In Colab\"/></a>"
      ]
    },
    {
      "cell_type": "markdown",
      "source": [
        "# Proje 2\n",
        "[16,21,11,8,12,22] -> Merge Sort\n",
        "\n",
        "Yukarıdaki dizinin sort türüne göre aşamalarını yazınız.\n",
        "Big-O gösterimini yazınız."
      ],
      "metadata": {
        "id": "FuAE9vtkPXZ0"
      }
    },
    {
      "cell_type": "code",
      "source": [
        "[16,21,11,8,12,22]\n",
        "\n",
        "#Diziyi İkiye Bölme:\n",
        "\n",
        "[16, 21, 11] ve [8, 12, 22]\n",
        "\n",
        "#Alt Dizileri Tekrar Bölme:\n",
        "\n",
        "[16, 21, 11] + [16] ve [21, 11]\n",
        "[8, 12, 22] + [8] ve [12, 22]\n",
        "\n",
        "#Daha Küçük Alt Dizileri Bölmeye Devam Etme:\n",
        "\n",
        "[21, 11] + [21] ve [11]\n",
        "[12, 22] + [12] ve [22]\n",
        "\n",
        "#Alt Dizileri Sıralı Bir Şekilde Birleştirme:\n",
        "\n",
        "[21] ve [11] birleştirilerek [11, 21] olur.\n",
        "[12] ve [22] birleştirilerek [12, 22] olur.\n",
        "\n",
        "#Birleştirilmiş Dizileri Sıralı Hale Getirme:\n",
        "\n",
        "[16] ve [11, 21] birleştirilerek [11, 16, 21] olur.\n",
        "[8] ve [12, 22] birleştirilerek [8, 12, 22] olur.\n",
        "\n",
        "#Son Birleştirme:\n",
        "\n",
        "[11, 16, 21] ve [8, 12, 22] birleştirilerek [8, 11, 12, 16, 21, 22] olur.\n",
        "\n",
        "#Sonuç olarak sıralı dizi: [8, 11, 12, 16, 21, 22]"
      ],
      "metadata": {
        "id": "qRY10ENSPaNj"
      },
      "execution_count": null,
      "outputs": []
    },
    {
      "cell_type": "code",
      "source": [
        "# Best Case: O(n) — Dizi zaten sıralıysa her eleman yalnızca bir kez kontrol edilir.\n",
        "\n",
        "# Average Case: O(n²)\n",
        "\n",
        "# Worst Case: O(n²) — Dizi tam ters sıralıysa en kötü durum ortaya çıkar."
      ],
      "metadata": {
        "id": "jBJW8zyiQTTD"
      },
      "execution_count": null,
      "outputs": []
    }
  ]
}